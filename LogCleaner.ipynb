{
 "cells": [
  {
   "cell_type": "code",
   "execution_count": 77,
   "metadata": {},
   "outputs": [],
   "source": [
    "# TARGET_FILE = \"./Loghub/Windows/Windows_2k.log\"\n",
    "# TARGET_FILE = \"./Loghub/Linux/Linux_2k.log\"\n",
    "# TARGET_FILE = \"./Loghub/Hadoop/Hadoop_2k.log\"\n",
    "# TARGET_FILE = \"./Loghub/HDFS/HDFS_2k.log\"\n",
    "TARGET_FILE = \"./Loghub/Spark/Spark_2k.log\""
   ]
  },
  {
   "cell_type": "code",
   "execution_count": 78,
   "metadata": {},
   "outputs": [],
   "source": [
    "def line_cleaner(line):\n",
    "    # print(line)\n",
    "\n",
    "    concat_char = \"\"\n",
    "\n",
    "    for char in line:\n",
    "        is_num = False\n",
    "        is_big = False\n",
    "        is_small = False\n",
    "\n",
    "        # print (\"now char\",char)\n",
    "        if char.isdigit():\n",
    "            concat_char+=char\n",
    "        elif char.islower():\n",
    "            concat_char+=char\n",
    "        elif char.isupper():\n",
    "            char=char.lower()\n",
    "            concat_char+=char\n",
    "        else:\n",
    "            if concat_char[-1] == \" \":\n",
    "                pass\n",
    "            else:\n",
    "                concat_char+=\" \"\n",
    "            pass\n",
    "\n",
    "    return concat_char\n"
   ]
  },
  {
   "cell_type": "code",
   "execution_count": 79,
   "metadata": {},
   "outputs": [],
   "source": [
    "import os\n",
    "\n",
    "file = open(TARGET_FILE,\"r\")\n",
    "lines = file.readlines()\n",
    "\n",
    "result_file_name = os.path.split(TARGET_FILE)[-1]\n",
    "result_file = open(result_file_name+\"_clean.txt\",\"w\")\n",
    "\n",
    "target_line=\"\"\n",
    "for line in lines:\n",
    "    target_line = line.strip()\n",
    "    # print (target_line)\n",
    "    result_file.write(line_cleaner(line.strip())+\"\\n\")\n",
    "\n",
    "result_file.close()"
   ]
  },
  {
   "cell_type": "code",
   "execution_count": null,
   "metadata": {},
   "outputs": [],
   "source": []
  }
 ],
 "metadata": {
  "kernelspec": {
   "display_name": "Python 3.8.15 ('log-nlp')",
   "language": "python",
   "name": "python3"
  },
  "language_info": {
   "codemirror_mode": {
    "name": "ipython",
    "version": 3
   },
   "file_extension": ".py",
   "mimetype": "text/x-python",
   "name": "python",
   "nbconvert_exporter": "python",
   "pygments_lexer": "ipython3",
   "version": "3.8.15 (default, Nov 10 2022, 13:17:42) \n[Clang 14.0.6 ]"
  },
  "orig_nbformat": 4,
  "vscode": {
   "interpreter": {
    "hash": "80ae40b66a50a4a015ad52259453a40d6b5351da7a6cd9ee122e050d6ff8c162"
   }
  }
 },
 "nbformat": 4,
 "nbformat_minor": 2
}
