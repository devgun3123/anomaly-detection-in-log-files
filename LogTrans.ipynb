{
 "cells": [
  {
   "cell_type": "code",
   "execution_count": 1,
   "metadata": {},
   "outputs": [],
   "source": [
    "import os\n",
    "import random\n",
    "\n",
    "# TARGET_FILE = \"./Loghub/Windows/Windows_2k.log\"\n",
    "# TARGET_FILE = \"./Loghub/Linux/Linux_2k.log\"\n",
    "# TARGET_FILE = \"./Loghub/Hadoop/Hadoop_2k.log\"\n",
    "# TARGET_FILE = \"./Loghub/HDFS/HDFS_2k.log\"\n",
    "TARGET_FILE = \"./clean_text/Windows_2k.log_clean.txt\""
   ]
  },
  {
   "cell_type": "code",
   "execution_count": 2,
   "metadata": {},
   "outputs": [],
   "source": [
    "# Windows\n",
    "def get_rand_word(line):\n",
    "    line = line.strip()\n",
    "    line_list = line.split()\n",
    "    # print(line_list)\n",
    "    remove_tok_cnt = 7\n",
    "    line_list = line_list[remove_tok_cnt:]\n",
    "    random_tok = random.sample(line_list, k=2)\n",
    "\n",
    "    while str(random_tok[0]).isnumeric()==True or str(random_tok[1]).isnumeric()==True or (len(random_tok[0]) + len(random_tok[1])<=2) or len(random_tok[0])==1 or len(random_tok[1])==1:\n",
    "        random_tok = random.sample(line_list, k=2)\n",
    "        # print(random_tok)\n",
    "\n",
    "    return random_tok"
   ]
  },
  {
   "cell_type": "code",
   "execution_count": null,
   "metadata": {},
   "outputs": [],
   "source": [
    "file = open(TARGET_FILE,\"r\")\n",
    "lines = file.readlines()\n",
    "\n",
    "result_file_name = os.path.split(TARGET_FILE)[-1]\n",
    "result_file = open(\"concordance_1_clean.lam\",\"w\")\n",
    "\n",
    "for line in lines:\n",
    "    target_line = line.strip()\n",
    "    random_tok = get_rand_word(target_line)\n",
    "    result_file.write(f\"exists x1.(_{random_tok[0]}(x1) & exists x2.(_{random_tok[1]}(x2) & (x1 = x2)))\"+\"\\n\")\n",
    "\n",
    "result_file.close()"
   ]
  },
  {
   "cell_type": "code",
   "execution_count": null,
   "metadata": {},
   "outputs": [],
   "source": []
  }
 ],
 "metadata": {
  "kernelspec": {
   "display_name": "log-nlp",
   "language": "python",
   "name": "python3"
  },
  "language_info": {
   "codemirror_mode": {
    "name": "ipython",
    "version": 3
   },
   "file_extension": ".py",
   "mimetype": "text/x-python",
   "name": "python",
   "nbconvert_exporter": "python",
   "pygments_lexer": "ipython3",
   "version": "3.8.15 (default, Nov 10 2022, 13:17:42) \n[Clang 14.0.6 ]"
  },
  "orig_nbformat": 4,
  "vscode": {
   "interpreter": {
    "hash": "80ae40b66a50a4a015ad52259453a40d6b5351da7a6cd9ee122e050d6ff8c162"
   }
  }
 },
 "nbformat": 4,
 "nbformat_minor": 2
}
