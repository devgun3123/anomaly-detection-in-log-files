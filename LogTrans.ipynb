{
 "cells": [
  {
   "cell_type": "code",
   "execution_count": 161,
   "metadata": {},
   "outputs": [],
   "source": [
    "import random\n",
    "\n",
    "# TARGET_FILE = \"./Loghub/Windows/Windows_2k.log\"\n",
    "# TARGET_FILE = \"./Loghub/Linux/Linux_2k.log\"\n",
    "# TARGET_FILE = \"./Loghub/Hadoop/Hadoop_2k.log\"\n",
    "# TARGET_FILE = \"./Loghub/HDFS/HDFS_2k.log\"\n",
    "TARGET_FILE = \"./clean_text/Windows_2k.log_clean.txt\""
   ]
  },
  {
   "cell_type": "code",
   "execution_count": 162,
   "metadata": {},
   "outputs": [
    {
     "name": "stdout",
     "output_type": "stream",
     "text": [
      "['2016', '09', '28', '04', '30', '30', 'info', 'cbs', 'loaded', 'servicing', 'stack', 'v6', '1', '7601', '23505', 'with', 'core', 'c', 'windows', 'winsxs', 'amd64', 'microsoft', 'windows', 'servicingstack', '31bf3856ad364e35', '6', '1', '7601', '23505', 'none', '681aa442f6fed7f0', 'cbscore', 'dll']\n",
      "['stack', '31bf3856ad364e35']\n"
     ]
    }
   ],
   "source": [
    "# Windows\n",
    "line = \"2016 09 28 04 30 30 info cbs loaded servicing stack v6 1 7601 23505 with core c windows winsxs amd64 microsoft windows servicingstack 31bf3856ad364e35 6 1 7601 23505 none 681aa442f6fed7f0 cbscore dll\"\n",
    "\n",
    "line = line.strip()\n",
    "line_list = line.split()\n",
    "print(line_list)\n",
    "remove_tok_cnt = 7\n",
    "line_list = line_list[remove_tok_cnt:]\n",
    "random_tok = random.sample(line_list, k=2)\n",
    "\n",
    "while str(random_tok[0]).isnumeric()==True or str(random_tok[1]).isnumeric()==True or (len(random_tok[0]) + len(random_tok[1])<=2) or len(random_tok[0])==1 or len(random_tok[1])==1:\n",
    "    random_tok = random.sample(line_list, k=2)\n",
    "    print(random_tok)\n",
    "\n",
    "print(random_tok)"
   ]
  },
  {
   "cell_type": "code",
   "execution_count": 163,
   "metadata": {},
   "outputs": [
    {
     "data": {
      "text/plain": [
       "'exists x1.(_stack(x1) & exists x2.(_31bf3856ad364e35(x2) & (x1 = x2)))'"
      ]
     },
     "execution_count": 163,
     "metadata": {},
     "output_type": "execute_result"
    }
   ],
   "source": [
    "f\"exists x1.(_{random_tok[0]}(x1) & exists x2.(_{random_tok[1]}(x2) & (x1 = x2)))\""
   ]
  },
  {
   "cell_type": "code",
   "execution_count": null,
   "metadata": {},
   "outputs": [],
   "source": []
  }
 ],
 "metadata": {
  "kernelspec": {
   "display_name": "base",
   "language": "python",
   "name": "python3"
  },
  "language_info": {
   "codemirror_mode": {
    "name": "ipython",
    "version": 3
   },
   "file_extension": ".py",
   "mimetype": "text/x-python",
   "name": "python",
   "nbconvert_exporter": "python",
   "pygments_lexer": "ipython3",
   "version": "3.9.12"
  },
  "orig_nbformat": 4,
  "vscode": {
   "interpreter": {
    "hash": "40d3a090f54c6569ab1632332b64b2c03c39dcf918b08424e98f38b5ae0af88f"
   }
  }
 },
 "nbformat": 4,
 "nbformat_minor": 2
}
