{
 "cells": [
  {
   "cell_type": "code",
   "execution_count": 10,
   "metadata": {},
   "outputs": [],
   "source": [
    "import os\n",
    "import random\n",
    "\n",
    "TARGET_FILE = \"./clean_text/Windows_2k.log_clean.txt\"\n",
    "TARGET_FILE = \"./clean_text/Linux_2k.log_clean.txt\""
   ]
  },
  {
   "cell_type": "code",
   "execution_count": 11,
   "metadata": {},
   "outputs": [],
   "source": [
    "# Windows\n",
    "def get_rand_word(line):\n",
    "    line = line.strip()\n",
    "    line_list = line.split()\n",
    "    # print(line_list)\n",
    "    remove_tok_cnt = 7\n",
    "    line_list = line_list[remove_tok_cnt:]\n",
    "    random_tok = random.sample(line_list, k=2)\n",
    "\n",
    "    loop = 0\n",
    "    while str(random_tok[0]).isnumeric()==True or str(random_tok[1]).isnumeric()==True or (len(random_tok[0]) + len(random_tok[1])<=2) or len(random_tok[0])==1 or len(random_tok[1])==1:\n",
    "        random_tok = random.sample(line_list, k=2)\n",
    "        loop+=1\n",
    "        if (loop==10):\n",
    "            break;\n",
    "        print(random_tok)\n",
    "\n",
    "    return random_tok"
   ]
  },
  {
   "cell_type": "code",
   "execution_count": 12,
   "metadata": {},
   "outputs": [
    {
     "ename": "TypeError",
     "evalue": "can only concatenate str (not \"int\") to str",
     "output_type": "error",
     "traceback": [
      "\u001b[0;31m---------------------------------------------------------------------------\u001b[0m",
      "\u001b[0;31mTypeError\u001b[0m                                 Traceback (most recent call last)",
      "Cell \u001b[0;32mIn [12], line 8\u001b[0m\n\u001b[1;32m      5\u001b[0m lines \u001b[39m=\u001b[39m file\u001b[39m.\u001b[39mreadlines()\n\u001b[1;32m      7\u001b[0m result_file_name \u001b[39m=\u001b[39m os\u001b[39m.\u001b[39mpath\u001b[39m.\u001b[39msplit(TARGET_FILE)[\u001b[39m-\u001b[39m\u001b[39m1\u001b[39m]\n\u001b[0;32m----> 8\u001b[0m result_file \u001b[39m=\u001b[39m \u001b[39mopen\u001b[39m(\u001b[39m\"\u001b[39;49m\u001b[39mconcordance_\u001b[39;49m\u001b[39m\"\u001b[39;49m\u001b[39m+\u001b[39;49mfile_cnt\u001b[39m+\u001b[39m\u001b[39m\"\u001b[39m\u001b[39m_clean.lam\u001b[39m\u001b[39m\"\u001b[39m,\u001b[39m\"\u001b[39m\u001b[39mw\u001b[39m\u001b[39m\"\u001b[39m)\n\u001b[1;32m     10\u001b[0m \u001b[39mfor\u001b[39;00m line \u001b[39min\u001b[39;00m lines:\n\u001b[1;32m     11\u001b[0m     target_line \u001b[39m=\u001b[39m line\u001b[39m.\u001b[39mstrip()\n",
      "\u001b[0;31mTypeError\u001b[0m: can only concatenate str (not \"int\") to str"
     ]
    }
   ],
   "source": [
    "file_cnt = 1\n",
    "\n",
    "while True:\n",
    "    file = open(TARGET_FILE,\"r\")\n",
    "    lines = file.readlines()\n",
    "\n",
    "    result_file_name = os.path.split(TARGET_FILE)[-1]\n",
    "    result_file = open(\"concordance_\"+str(file_cnt)+\"_clean.lam\",\"w\")\n",
    "\n",
    "    for line in lines:\n",
    "        target_line = line.strip()\n",
    "        random_tok = get_rand_word(target_line)\n",
    "        result_file.write(f\"exists x1.(_{random_tok[0]}(x1) & exists x2.(_{random_tok[1]}(x2) & (x1 = x2)))\"+\"\\n\")\n",
    "\n",
    "    result_file.close()\n",
    "    file_cnt+=1\n",
    "    if file_cnt == 21:\n",
    "        break;"
   ]
  },
  {
   "cell_type": "code",
   "execution_count": null,
   "metadata": {},
   "outputs": [],
   "source": []
  }
 ],
 "metadata": {
  "kernelspec": {
   "display_name": "log-nlp",
   "language": "python",
   "name": "python3"
  },
  "language_info": {
   "codemirror_mode": {
    "name": "ipython",
    "version": 3
   },
   "file_extension": ".py",
   "mimetype": "text/x-python",
   "name": "python",
   "nbconvert_exporter": "python",
   "pygments_lexer": "ipython3",
   "version": "3.8.15"
  },
  "orig_nbformat": 4,
  "vscode": {
   "interpreter": {
    "hash": "80ae40b66a50a4a015ad52259453a40d6b5351da7a6cd9ee122e050d6ff8c162"
   }
  }
 },
 "nbformat": 4,
 "nbformat_minor": 2
}
