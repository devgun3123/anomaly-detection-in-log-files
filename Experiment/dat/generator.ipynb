{
 "cells": [
  {
   "cell_type": "code",
   "execution_count": 1,
   "metadata": {},
   "outputs": [
    {
     "name": "stdout",
     "output_type": "stream",
     "text": [
      "Python 3.9.13\n"
     ]
    }
   ],
   "source": [
    "!python --version"
   ]
  },
  {
   "cell_type": "code",
   "execution_count": 19,
   "metadata": {},
   "outputs": [],
   "source": [
    "import os\n",
    "\n",
    "dir_path = \"./clean\"\n",
    "file_list = []\n",
    "\n",
    "for (root, directories, files) in os.walk(dir_path):\n",
    "    for file in files:\n",
    "        file_path = os.path.join(root, file)\n",
    "        file_list.append(file_path)"
   ]
  },
  {
   "cell_type": "code",
   "execution_count": 21,
   "metadata": {},
   "outputs": [
    {
     "name": "stdout",
     "output_type": "stream",
     "text": [
      "./clean/concordance_12_clean.txt\n",
      "./clean/concordance_5_clean.txt\n",
      "./clean/concordance_19_clean.txt\n",
      "./clean/concordance_21_clean.txt\n",
      "./clean/concordance_3_clean.txt\n",
      "./clean/concordance_14_clean.txt\n",
      "./clean/concordance_9_clean.txt\n",
      "./clean/concordance_13_clean.txt\n",
      "./clean/concordance_4_clean.txt\n",
      "./clean/concordance_18_clean.txt\n",
      "./clean/concordance_20_clean.txt\n",
      "./clean/concordance_2_clean.txt\n",
      "./clean/concordance_15_clean.txt\n",
      "./clean/concordance_10_clean.txt\n",
      "./clean/concordance_7_clean.txt\n",
      "./clean/concordance_1_clean.txt\n",
      "./clean/concordance_16_clean.txt\n",
      "./clean/concordance_23_clean.txt\n",
      "./clean/concordance_11_clean.txt\n",
      "./clean/concordance_17_clean.txt\n",
      "./clean/concordance_22_clean.txt\n"
     ]
    }
   ],
   "source": [
    "for file in file_list:\n",
    "    print(file)\n",
    "    f = open(file,\"r\")\n",
    "    lines = f.readlines()\n",
    "\n",
    "    fw = open(\"./temp.lam\",\"w\")\n",
    "\n",
    "    count = 0\n",
    "    # Strips the newline character\n",
    "    for line in lines:\n",
    "        count += 1\n",
    "        # print(\"Line{}: {}\".format(count, line.strip()))\n",
    "        \n",
    "        if line.find(\"CSI\") != -1:\n",
    "            fw.writelines(\"exists x1.(_info(x1) & exists x2.(_csi(x2) & (x1 = x2)))\",\"\\n\")\n",
    "        else:\n",
    "            fw.writelines(\"exists x1.(_info(x1) & exists x2.(_cbs(x2) & (x1 = x2)))\",\"\\n\")"
   ]
  },
  {
   "cell_type": "code",
   "execution_count": null,
   "metadata": {},
   "outputs": [],
   "source": []
  }
 ],
 "metadata": {
  "kernelspec": {
   "display_name": "Python 3 (ipykernel)",
   "language": "python",
   "name": "python3"
  },
  "language_info": {
   "codemirror_mode": {
    "name": "ipython",
    "version": 3
   },
   "file_extension": ".py",
   "mimetype": "text/x-python",
   "name": "python",
   "nbconvert_exporter": "python",
   "pygments_lexer": "ipython3",
   "version": "3.9.13"
  },
  "vscode": {
   "interpreter": {
    "hash": "f09beeab934894f153b1182ce72255a01fbfdffbbdfe4ce41b0764da28ceabb6"
   }
  }
 },
 "nbformat": 4,
 "nbformat_minor": 4
}
