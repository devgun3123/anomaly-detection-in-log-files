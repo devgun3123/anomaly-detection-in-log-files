{
 "cells": [
  {
   "cell_type": "code",
   "execution_count": null,
   "metadata": {},
   "outputs": [],
   "source": [
    "!python --version"
   ]
  },
  {
   "cell_type": "code",
   "execution_count": null,
   "metadata": {},
   "outputs": [],
   "source": [
    "import os\n",
    "\n",
    "dir_path = \"./clean\"\n",
    "file_list = []\n",
    "\n",
    "for (root, directories, files) in os.walk(dir_path):\n",
    "    for file in files:\n",
    "        file_path = os.path.join(root, file)\n",
    "        file_list.append(file_path)"
   ]
  },
  {
   "cell_type": "code",
   "execution_count": null,
   "metadata": {},
   "outputs": [],
   "source": [
    "for file in file_list:\n",
    "    print(file)\n",
    "    f = open(file,\"r\")\n",
    "    lines = f.readlines()\n",
    "\n",
    "    fw = open(\"./temp.lam\",\"w\")\n",
    "\n",
    "    count = 0\n",
    "    # Strips the newline character\n",
    "    for line in lines:\n",
    "        count += 1\n",
    "        # print(\"Line{}: {}\".format(count, line.strip()))\n",
    "        \n",
    "        if line.find(\"CSI\") != -1:\n",
    "            fw.writelines([\"exists x1.(_info(x1) & exists x2.(_csi(x2) & (x1 = x2)))\",\"\\n\"])\n",
    "        else:\n",
    "            fw.writelines([\"exists x1.(_info(x1) & exists x2.(_cbs(x2) & (x1 = x2)))\",\"\\n\"])"
   ]
  },
  {
   "cell_type": "code",
   "execution_count": null,
   "metadata": {},
   "outputs": [],
   "source": []
  }
 ],
 "metadata": {
  "kernelspec": {
   "display_name": "Python 3 (ipykernel)",
   "language": "python",
   "name": "python3"
  },
  "language_info": {
   "codemirror_mode": {
    "name": "ipython",
    "version": 3
   },
   "file_extension": ".py",
   "mimetype": "text/x-python",
   "name": "python",
   "nbconvert_exporter": "python",
   "pygments_lexer": "ipython3",
   "version": "3.10.6"
  },
  "vscode": {
   "interpreter": {
    "hash": "f09beeab934894f153b1182ce72255a01fbfdffbbdfe4ce41b0764da28ceabb6"
   }
  }
 },
 "nbformat": 4,
 "nbformat_minor": 4
}
