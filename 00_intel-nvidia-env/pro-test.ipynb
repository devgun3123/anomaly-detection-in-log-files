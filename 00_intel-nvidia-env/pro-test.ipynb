{
 "cells": [
  {
   "cell_type": "code",
   "execution_count": 1,
   "metadata": {},
   "outputs": [
    {
     "name": "stdout",
     "output_type": "stream",
     "text": [
      "Python 3.9.16\n"
     ]
    }
   ],
   "source": [
    "!python --version"
   ]
  },
  {
   "cell_type": "code",
   "execution_count": 2,
   "metadata": {},
   "outputs": [
    {
     "data": {
      "text/plain": [
       "[name: \"/device:CPU:0\"\n",
       " device_type: \"CPU\"\n",
       " memory_limit: 268435456\n",
       " locality {\n",
       " }\n",
       " incarnation: 13414019674888778174\n",
       " xla_global_id: -1]"
      ]
     },
     "execution_count": 2,
     "metadata": {},
     "output_type": "execute_result"
    }
   ],
   "source": [
    "import numpy as np\n",
    "\n",
    "from tensorflow.python.client import device_lib\n",
    "\n",
    "device_lib.list_local_devices()"
   ]
  },
  {
   "cell_type": "code",
   "execution_count": 3,
   "metadata": {},
   "outputs": [
    {
     "name": "stdout",
     "output_type": "stream",
     "text": [
      "Epoch 1/10\n",
      "100/100 [==============================] - 1s 9ms/step - loss: 0.0864 - val_loss: 0.0836\n",
      "Epoch 2/10\n",
      "100/100 [==============================] - 1s 7ms/step - loss: 0.0841 - val_loss: 0.0849\n",
      "Epoch 3/10\n",
      "100/100 [==============================] - 1s 9ms/step - loss: 0.0842 - val_loss: 0.0839\n",
      "Epoch 4/10\n",
      "100/100 [==============================] - 1s 7ms/step - loss: 0.0840 - val_loss: 0.0839\n",
      "Epoch 5/10\n",
      "100/100 [==============================] - 1s 6ms/step - loss: 0.0842 - val_loss: 0.0860\n",
      "Epoch 6/10\n",
      "100/100 [==============================] - 1s 6ms/step - loss: 0.0842 - val_loss: 0.0841\n",
      "Epoch 7/10\n",
      "100/100 [==============================] - 1s 7ms/step - loss: 0.0840 - val_loss: 0.0846\n",
      "Epoch 8/10\n",
      "100/100 [==============================] - 1s 6ms/step - loss: 0.0839 - val_loss: 0.0840\n",
      "Epoch 9/10\n",
      "100/100 [==============================] - 1s 6ms/step - loss: 0.0842 - val_loss: 0.0849\n",
      "Epoch 10/10\n",
      "100/100 [==============================] - 1s 6ms/step - loss: 0.0842 - val_loss: 0.0843\n"
     ]
    },
    {
     "data": {
      "text/plain": [
       "<keras.callbacks.History at 0x241219bbb80>"
      ]
     },
     "execution_count": 3,
     "metadata": {},
     "output_type": "execute_result"
    }
   ],
   "source": [
    "import tensorflow as tf\n",
    "\n",
    "x = np.random.random((10000, 5))\n",
    "y = np.random.random((10000, 2))\n",
    "\n",
    "x2 = np.random.random((2000, 5))\n",
    "y2 = np.random.random((2000, 2))\n",
    "\n",
    "inp = tf.keras.layers.Input(shape = (5,))\n",
    "l1 = tf.keras.layers.Dense(256, activation = 'sigmoid')(inp)\n",
    "l1 = tf.keras.layers.Dense(256, activation = 'sigmoid')(l1)\n",
    "l1 = tf.keras.layers.Dense(256, activation = 'sigmoid')(l1)\n",
    "l1 = tf.keras.layers.Dense(256, activation = 'sigmoid')(l1)\n",
    "l1 = tf.keras.layers.Dense(256, activation = 'sigmoid')(l1)\n",
    "o = tf.keras.layers.Dense(2, activation = 'sigmoid')(l1)\n",
    "\n",
    "model = tf.keras.models.Model(inputs = [inp], outputs = [o])\n",
    "model.compile(optimizer = \"Adam\", loss = \"mse\")\n",
    "\n",
    "model.fit(x, y, validation_data = (x2, y2), batch_size = 100, epochs = 10)"
   ]
  }
 ],
 "metadata": {
  "kernelspec": {
   "display_name": "log-nlp_38",
   "language": "python",
   "name": "python3"
  },
  "language_info": {
   "codemirror_mode": {
    "name": "ipython",
    "version": 3
   },
   "file_extension": ".py",
   "mimetype": "text/x-python",
   "name": "python",
   "nbconvert_exporter": "python",
   "pygments_lexer": "ipython3",
   "version": "3.9.16"
  },
  "orig_nbformat": 4
 },
 "nbformat": 4,
 "nbformat_minor": 2
}
