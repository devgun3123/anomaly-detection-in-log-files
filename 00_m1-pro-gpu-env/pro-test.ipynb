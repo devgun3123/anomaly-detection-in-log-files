{
 "cells": [
  {
   "cell_type": "code",
   "execution_count": 1,
   "metadata": {},
   "outputs": [
    {
     "name": "stdout",
     "output_type": "stream",
     "text": [
      "Python 3.9.16\n"
     ]
    }
   ],
   "source": [
    "!python --version"
   ]
  },
  {
   "cell_type": "code",
   "execution_count": 2,
   "metadata": {},
   "outputs": [
    {
     "name": "stdout",
     "output_type": "stream",
     "text": [
      "Num GPUs Available:  1\n"
     ]
    }
   ],
   "source": [
    "import numpy as np\n",
    "import tensorflow as tf\n",
    "\n",
    "\n",
    "tf.compat.v1.disable_eager_execution()\n",
    "print(\"Num GPUs Available: \", len(tf.config.experimental.list_physical_devices('GPU')))\n"
   ]
  },
  {
   "cell_type": "code",
   "execution_count": 3,
   "metadata": {},
   "outputs": [
    {
     "name": "stdout",
     "output_type": "stream",
     "text": [
      "Train on 10000 samples, validate on 2000 samples\n",
      "Epoch 1/10\n",
      "Metal device set to: Apple M1 Pro\n",
      "\n",
      "systemMemory: 32.00 GB\n",
      "maxCacheSize: 10.67 GB\n",
      "\n"
     ]
    },
    {
     "name": "stderr",
     "output_type": "stream",
     "text": [
      "2023-05-28 05:22:53.336916: I tensorflow/core/common_runtime/pluggable_device/pluggable_device_factory.cc:303] Could not identify NUMA node of platform GPU ID 0, defaulting to 0. Your kernel may not have been built with NUMA support.\n",
      "2023-05-28 05:22:53.337102: I tensorflow/core/common_runtime/pluggable_device/pluggable_device_factory.cc:269] Created TensorFlow device (/job:localhost/replica:0/task:0/device:GPU:0 with 0 MB memory) -> physical PluggableDevice (device: 0, name: METAL, pci bus id: <undefined>)\n",
      "2023-05-28 05:22:53.344976: I tensorflow/compiler/mlir/mlir_graph_optimization_pass.cc:375] MLIR V1 optimization pass is not enabled\n",
      "2023-05-28 05:22:53.355979: I tensorflow/core/grappler/optimizers/custom_graph_optimizer_registry.cc:114] Plugin optimizer for device_type GPU is enabled.\n",
      "2023-05-28 05:22:53.390679: W tensorflow/c/c_api.cc:304] Operation '{name:'training/Adam/dense_3/kernel/v/Assign' id:398 op device:{requested: '', assigned: ''} def:{{{node training/Adam/dense_3/kernel/v/Assign}} = AssignVariableOp[_has_manual_control_dependencies=true, dtype=DT_FLOAT, validate_shape=false](training/Adam/dense_3/kernel/v, training/Adam/dense_3/kernel/v/Initializer/zeros)}}' was changed by setting attribute after it was run by a session. This mutation will have no effect, and will trigger an error in the future. Either don't modify nodes after running them or create a new session.\n",
      "2023-05-28 05:22:53.396345: I tensorflow/core/grappler/optimizers/custom_graph_optimizer_registry.cc:114] Plugin optimizer for device_type GPU is enabled.\n",
      "2023-05-28 05:22:53.433141: I tensorflow/core/grappler/optimizers/custom_graph_optimizer_registry.cc:114] Plugin optimizer for device_type GPU is enabled.\n"
     ]
    },
    {
     "name": "stdout",
     "output_type": "stream",
     "text": [
      "10000/10000 [==============================] - 1s 119us/sample - loss: 0.0857 - val_loss: 0.0870\n",
      "Epoch 2/10\n",
      "  800/10000 [=>............................] - ETA: 0s - loss: 0.0832"
     ]
    },
    {
     "name": "stderr",
     "output_type": "stream",
     "text": [
      "/opt/homebrew/Caskroom/miniforge/base/envs/log-nlp_39/lib/python3.9/site-packages/keras/src/engine/training_v1.py:2335: UserWarning: `Model.state_updates` will be removed in a future version. This property should not be used in TensorFlow 2.0, as `updates` are applied automatically.\n",
      "  updates = self.state_updates\n",
      "2023-05-28 05:22:54.412502: W tensorflow/c/c_api.cc:304] Operation '{name:'loss/mul' id:164 op device:{requested: '', assigned: ''} def:{{{node loss/mul}} = Mul[T=DT_FLOAT, _has_manual_control_dependencies=true](loss/mul/x, loss/dense_5_loss/value)}}' was changed by setting attribute after it was run by a session. This mutation will have no effect, and will trigger an error in the future. Either don't modify nodes after running them or create a new session.\n",
      "2023-05-28 05:22:54.417970: I tensorflow/core/grappler/optimizers/custom_graph_optimizer_registry.cc:114] Plugin optimizer for device_type GPU is enabled.\n"
     ]
    },
    {
     "name": "stdout",
     "output_type": "stream",
     "text": [
      "10000/10000 [==============================] - 1s 81us/sample - loss: 0.0843 - val_loss: 0.0871\n",
      "Epoch 3/10\n",
      "10000/10000 [==============================] - 1s 81us/sample - loss: 0.0836 - val_loss: 0.0867\n",
      "Epoch 4/10\n",
      "10000/10000 [==============================] - 1s 83us/sample - loss: 0.0839 - val_loss: 0.0867\n",
      "Epoch 5/10\n",
      "10000/10000 [==============================] - 1s 81us/sample - loss: 0.0838 - val_loss: 0.0867\n",
      "Epoch 6/10\n",
      "10000/10000 [==============================] - 1s 81us/sample - loss: 0.0840 - val_loss: 0.0868\n",
      "Epoch 7/10\n",
      "10000/10000 [==============================] - 1s 81us/sample - loss: 0.0838 - val_loss: 0.0871\n",
      "Epoch 8/10\n",
      "10000/10000 [==============================] - 1s 80us/sample - loss: 0.0836 - val_loss: 0.0874\n",
      "Epoch 9/10\n",
      "10000/10000 [==============================] - 1s 81us/sample - loss: 0.0842 - val_loss: 0.0869\n",
      "Epoch 10/10\n",
      "10000/10000 [==============================] - 1s 81us/sample - loss: 0.0837 - val_loss: 0.0866\n"
     ]
    },
    {
     "data": {
      "text/plain": [
       "<keras.src.callbacks.History at 0x29d0887c0>"
      ]
     },
     "execution_count": 3,
     "metadata": {},
     "output_type": "execute_result"
    }
   ],
   "source": [
    "x = np.random.random((10000, 5))\n",
    "y = np.random.random((10000, 2))\n",
    "\n",
    "x2 = np.random.random((2000, 5))\n",
    "y2 = np.random.random((2000, 2))\n",
    "\n",
    "inp = tf.keras.layers.Input(shape = (5,))\n",
    "l1 = tf.keras.layers.Dense(256, activation = 'sigmoid')(inp)\n",
    "l1 = tf.keras.layers.Dense(256, activation = 'sigmoid')(l1)\n",
    "l1 = tf.keras.layers.Dense(256, activation = 'sigmoid')(l1)\n",
    "l1 = tf.keras.layers.Dense(256, activation = 'sigmoid')(l1)\n",
    "l1 = tf.keras.layers.Dense(256, activation = 'sigmoid')(l1)\n",
    "o = tf.keras.layers.Dense(2, activation = 'sigmoid')(l1)\n",
    "\n",
    "model = tf.keras.models.Model(inputs = [inp], outputs = [o])\n",
    "model.compile(optimizer = \"Adam\", loss = \"mse\")\n",
    "\n",
    "model.fit(x, y, validation_data = (x2, y2), batch_size = 100, epochs = 10)"
   ]
  }
 ],
 "metadata": {
  "kernelspec": {
   "display_name": "log-nlp_38",
   "language": "python",
   "name": "python3"
  },
  "language_info": {
   "codemirror_mode": {
    "name": "ipython",
    "version": 3
   },
   "file_extension": ".py",
   "mimetype": "text/x-python",
   "name": "python",
   "nbconvert_exporter": "python",
   "pygments_lexer": "ipython3",
   "version": "3.9.16"
  },
  "orig_nbformat": 4
 },
 "nbformat": 4,
 "nbformat_minor": 2
}
