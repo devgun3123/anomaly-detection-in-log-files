{
 "cells": [
  {
   "cell_type": "code",
   "execution_count": 1,
   "metadata": {},
   "outputs": [
    {
     "name": "stdout",
     "output_type": "stream",
     "text": [
      "Python 3.9.16\n"
     ]
    }
   ],
   "source": [
    "!python --version"
   ]
  },
  {
   "cell_type": "code",
   "execution_count": 2,
   "metadata": {},
   "outputs": [
    {
     "name": "stdout",
     "output_type": "stream",
     "text": [
      "Num GPUs Available:  1\n"
     ]
    }
   ],
   "source": [
    "import numpy as np\n",
    "import tensorflow as tf\n",
    "\n",
    "\n",
    "tf.compat.v1.disable_eager_execution()\n",
    "print(\"Num GPUs Available: \", len(tf.config.experimental.list_physical_devices('GPU')))\n"
   ]
  },
  {
   "cell_type": "code",
   "execution_count": 3,
   "metadata": {},
   "outputs": [
    {
     "name": "stdout",
     "output_type": "stream",
     "text": [
      "Train on 10000 samples, validate on 2000 samples\n",
      "Epoch 1/10\n",
      "Metal device set to: Apple M1 Pro\n",
      "\n",
      "systemMemory: 32.00 GB\n",
      "maxCacheSize: 10.67 GB\n",
      "\n"
     ]
    },
    {
     "name": "stderr",
     "output_type": "stream",
     "text": [
      "2023-04-30 18:04:21.699628: I tensorflow/core/common_runtime/pluggable_device/pluggable_device_factory.cc:306] Could not identify NUMA node of platform GPU ID 0, defaulting to 0. Your kernel may not have been built with NUMA support.\n",
      "2023-04-30 18:04:21.699657: I tensorflow/core/common_runtime/pluggable_device/pluggable_device_factory.cc:272] Created TensorFlow device (/job:localhost/replica:0/task:0/device:GPU:0 with 0 MB memory) -> physical PluggableDevice (device: 0, name: METAL, pci bus id: <undefined>)\n",
      "2023-04-30 18:04:21.707927: I tensorflow/compiler/mlir/mlir_graph_optimization_pass.cc:357] MLIR V1 optimization pass is not enabled\n",
      "2023-04-30 18:04:21.710815: W tensorflow/tsl/platform/profile_utils/cpu_utils.cc:128] Failed to get CPU frequency: 0 Hz\n",
      "2023-04-30 18:04:21.711418: I tensorflow/core/grappler/optimizers/custom_graph_optimizer_registry.cc:114] Plugin optimizer for device_type GPU is enabled.\n",
      "2023-04-30 18:04:21.730695: W tensorflow/c/c_api.cc:291] Operation '{name:'training/Adam/dense_4/kernel/v/Assign' id:410 op device:{requested: '', assigned: ''} def:{{{node training/Adam/dense_4/kernel/v/Assign}} = AssignVariableOp[_has_manual_control_dependencies=true, dtype=DT_FLOAT, validate_shape=false](training/Adam/dense_4/kernel/v, training/Adam/dense_4/kernel/v/Initializer/zeros)}}' was changed by setting attribute after it was run by a session. This mutation will have no effect, and will trigger an error in the future. Either don't modify nodes after running them or create a new session.\n",
      "2023-04-30 18:04:21.736218: I tensorflow/core/grappler/optimizers/custom_graph_optimizer_registry.cc:114] Plugin optimizer for device_type GPU is enabled.\n",
      "2023-04-30 18:04:21.806928: I tensorflow/core/grappler/optimizers/custom_graph_optimizer_registry.cc:114] Plugin optimizer for device_type GPU is enabled.\n"
     ]
    },
    {
     "name": "stdout",
     "output_type": "stream",
     "text": [
      "10000/10000 [==============================] - 3s 287us/sample - loss: 0.0853 - val_loss: 0.0856\n",
      "Epoch 2/10\n",
      "  700/10000 [=>............................] - ETA: 0s - loss: 0.0843"
     ]
    },
    {
     "name": "stderr",
     "output_type": "stream",
     "text": [
      "/opt/homebrew/Caskroom/miniforge/base/envs/log-nlp_39/lib/python3.9/site-packages/keras/engine/training_v1.py:2333: UserWarning: `Model.state_updates` will be removed in a future version. This property should not be used in TensorFlow 2.0, as `updates` are applied automatically.\n",
      "  updates = self.state_updates\n",
      "2023-04-30 18:04:24.447815: W tensorflow/c/c_api.cc:291] Operation '{name:'loss/mul' id:164 op device:{requested: '', assigned: ''} def:{{{node loss/mul}} = Mul[T=DT_FLOAT, _has_manual_control_dependencies=true](loss/mul/x, loss/dense_5_loss/value)}}' was changed by setting attribute after it was run by a session. This mutation will have no effect, and will trigger an error in the future. Either don't modify nodes after running them or create a new session.\n",
      "2023-04-30 18:04:24.453274: I tensorflow/core/grappler/optimizers/custom_graph_optimizer_registry.cc:114] Plugin optimizer for device_type GPU is enabled.\n"
     ]
    },
    {
     "name": "stdout",
     "output_type": "stream",
     "text": [
      "10000/10000 [==============================] - 1s 88us/sample - loss: 0.0852 - val_loss: 0.0839\n",
      "Epoch 3/10\n",
      "10000/10000 [==============================] - 1s 85us/sample - loss: 0.0840 - val_loss: 0.0838\n",
      "Epoch 4/10\n",
      "10000/10000 [==============================] - 1s 88us/sample - loss: 0.0841 - val_loss: 0.0837\n",
      "Epoch 5/10\n",
      "10000/10000 [==============================] - 1s 84us/sample - loss: 0.0841 - val_loss: 0.0836\n",
      "Epoch 6/10\n",
      "10000/10000 [==============================] - 1s 85us/sample - loss: 0.0841 - val_loss: 0.0851\n",
      "Epoch 7/10\n",
      "10000/10000 [==============================] - 1s 85us/sample - loss: 0.0840 - val_loss: 0.0835\n",
      "Epoch 8/10\n",
      "10000/10000 [==============================] - 1s 84us/sample - loss: 0.0840 - val_loss: 0.0835\n",
      "Epoch 9/10\n",
      "10000/10000 [==============================] - 1s 84us/sample - loss: 0.0843 - val_loss: 0.0834\n",
      "Epoch 10/10\n",
      "10000/10000 [==============================] - 1s 84us/sample - loss: 0.0839 - val_loss: 0.0841\n"
     ]
    },
    {
     "data": {
      "text/plain": [
       "<keras.callbacks.History at 0x292cf2af0>"
      ]
     },
     "execution_count": 3,
     "metadata": {},
     "output_type": "execute_result"
    }
   ],
   "source": [
    "x = np.random.random((10000, 5))\n",
    "y = np.random.random((10000, 2))\n",
    "\n",
    "x2 = np.random.random((2000, 5))\n",
    "y2 = np.random.random((2000, 2))\n",
    "\n",
    "inp = tf.keras.layers.Input(shape = (5,))\n",
    "l1 = tf.keras.layers.Dense(256, activation = 'sigmoid')(inp)\n",
    "l1 = tf.keras.layers.Dense(256, activation = 'sigmoid')(l1)\n",
    "l1 = tf.keras.layers.Dense(256, activation = 'sigmoid')(l1)\n",
    "l1 = tf.keras.layers.Dense(256, activation = 'sigmoid')(l1)\n",
    "l1 = tf.keras.layers.Dense(256, activation = 'sigmoid')(l1)\n",
    "o = tf.keras.layers.Dense(2, activation = 'sigmoid')(l1)\n",
    "\n",
    "model = tf.keras.models.Model(inputs = [inp], outputs = [o])\n",
    "model.compile(optimizer = \"Adam\", loss = \"mse\")\n",
    "\n",
    "model.fit(x, y, validation_data = (x2, y2), batch_size = 100, epochs = 10)"
   ]
  }
 ],
 "metadata": {
  "kernelspec": {
   "display_name": "log-nlp_38",
   "language": "python",
   "name": "python3"
  },
  "language_info": {
   "codemirror_mode": {
    "name": "ipython",
    "version": 3
   },
   "file_extension": ".py",
   "mimetype": "text/x-python",
   "name": "python",
   "nbconvert_exporter": "python",
   "pygments_lexer": "ipython3",
   "version": "3.9.16"
  },
  "orig_nbformat": 4
 },
 "nbformat": 4,
 "nbformat_minor": 2
}
