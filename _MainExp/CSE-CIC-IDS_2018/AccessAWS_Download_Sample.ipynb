{
 "cells": [
  {
   "cell_type": "code",
   "execution_count": 1,
   "metadata": {},
   "outputs": [
    {
     "name": "stdout",
     "output_type": "stream",
     "text": [
      "aws-cli/2.9.20 Python/3.11.1 Darwin/22.2.0 source/arm64 prompt/off\n"
     ]
    }
   ],
   "source": [
    "!aws --version"
   ]
  },
  {
   "cell_type": "code",
   "execution_count": 2,
   "metadata": {},
   "outputs": [
    {
     "name": "stdout",
     "output_type": "stream",
     "text": [
      "                           PRE Original Network Traffic and Log data/\n",
      "                           PRE Processed Traffic Data for ML Algorithms/\n"
     ]
    }
   ],
   "source": [
    "!aws s3 ls --no-sign-request s3://cse-cic-ids2018/"
   ]
  },
  {
   "cell_type": "code",
   "execution_count": 3,
   "metadata": {},
   "outputs": [
    {
     "name": "stdout",
     "output_type": "stream",
     "text": [
      "                           PRE Friday-02-03-2018/\n",
      "                           PRE Friday-16-02-2018/\n",
      "                           PRE Friday-23-02-2018/\n",
      "                           PRE Thursday-01-03-2018/\n",
      "                           PRE Thursday-15-02-2018/\n",
      "                           PRE Thursday-22-02-2018/\n",
      "                           PRE Tuesday-20-02-2018/\n",
      "                           PRE Wednesday-14-02-2018/\n",
      "                           PRE Wednesday-21-02-2018/\n",
      "                           PRE Wednesday-28-02-2018/\n",
      "2018-10-10 20:52:09          0 \n"
     ]
    }
   ],
   "source": [
    "!aws s3 ls --no-sign-request \"s3://cse-cic-ids2018/Original Network Traffic and Log data/\""
   ]
  },
  {
   "cell_type": "code",
   "execution_count": 4,
   "metadata": {},
   "outputs": [
    {
     "name": "stdout",
     "output_type": "stream",
     "text": [
      "2018-10-10 20:52:23          0 Original Network Traffic and Log data/Friday-02-03-2018/\n",
      "2018-10-10 21:00:39  236732757 Original Network Traffic and Log data/Friday-02-03-2018/logs.zip\n",
      "2018-10-10 21:00:51 44789835888 Original Network Traffic and Log data/Friday-02-03-2018/pcap.zip\n"
     ]
    }
   ],
   "source": [
    "!aws s3 ls --no-sign-request \"s3://cse-cic-ids2018/Original Network Traffic and Log data/Friday-02-03-2018/\" --recursive"
   ]
  },
  {
   "cell_type": "code",
   "execution_count": null,
   "metadata": {},
   "outputs": [],
   "source": [
    "!aws s3 cp --no-sign-request \"s3://cse-cic-ids2018/Original Network Traffic and Log data/Friday-02-03-2018/\" ./data/ --recursive"
   ]
  },
  {
   "cell_type": "code",
   "execution_count": null,
   "metadata": {},
   "outputs": [],
   "source": [
    "!aws s3 cp --no-sign-request \"s3://cse-cic-ids2018/Processed Traffic Data for ML Algorithms/Thursday-01-03-2018_TrafficForML_CICFlowMeter.csv\" ./data/"
   ]
  },
  {
   "attachments": {},
   "cell_type": "markdown",
   "metadata": {},
   "source": [
    "### Target List\n",
    "                        1   PRE Friday-02-03-2018/\n",
    "                        2   PRE Friday-16-02-2018/\n",
    "                        3   PRE Friday-23-02-2018/\n",
    "                        4   PRE Thursday-01-03-2018/\n",
    "                        5   PRE Thursday-15-02-2018/\n",
    "                        6   PRE Thursday-22-02-2018/\n",
    "                        7   PRE Tuesday-20-02-2018/\n",
    "                        8   PRE Wednesday-14-02-2018/\n",
    "                        9   PRE Wednesday-21-02-2018/\n",
    "                        10   PRE Wednesday-28-02-2018/"
   ]
  }
 ],
 "metadata": {
  "kernelspec": {
   "display_name": "log-nlp_38",
   "language": "python",
   "name": "python3"
  },
  "language_info": {
   "codemirror_mode": {
    "name": "ipython",
    "version": 3
   },
   "file_extension": ".py",
   "mimetype": "text/x-python",
   "name": "python",
   "nbconvert_exporter": "python",
   "pygments_lexer": "ipython3",
   "version": "3.8.15"
  },
  "orig_nbformat": 4,
  "vscode": {
   "interpreter": {
    "hash": "66d4fb87ddb4494270580ee563fb6840ad68ac8d4139104e541e8f4c217ec4ea"
   }
  }
 },
 "nbformat": 4,
 "nbformat_minor": 2
}
