{
 "cells": [
  {
   "cell_type": "code",
   "execution_count": 4,
   "metadata": {},
   "outputs": [
    {
     "name": "stdout",
     "output_type": "stream",
     "text": [
      "Python 3.9.16\n"
     ]
    }
   ],
   "source": [
    "!python --version"
   ]
  },
  {
   "cell_type": "code",
   "execution_count": 5,
   "metadata": {},
   "outputs": [
    {
     "name": "stdout",
     "output_type": "stream",
     "text": [
      "Num GPUs Available:  1\n"
     ]
    }
   ],
   "source": [
    "import numpy as np\n",
    "import tensorflow as tf\n",
    "\n",
    "\n",
    "tf.compat.v1.disable_eager_execution()\n",
    "print(\"Num GPUs Available: \", len(tf.config.experimental.list_physical_devices('GPU')))\n"
   ]
  },
  {
   "cell_type": "code",
   "execution_count": 6,
   "metadata": {},
   "outputs": [
    {
     "name": "stdout",
     "output_type": "stream",
     "text": [
      "Train on 10000 samples, validate on 2000 samples\n",
      "Epoch 1/10\n"
     ]
    },
    {
     "name": "stderr",
     "output_type": "stream",
     "text": [
      "2023-04-30 14:46:39.718023: I tensorflow/core/grappler/optimizers/custom_graph_optimizer_registry.cc:114] Plugin optimizer for device_type GPU is enabled.\n",
      "2023-04-30 14:46:39.734865: W tensorflow/c/c_api.cc:291] Operation '{name:'training_2/Adam/dense_9/bias/v/Assign' id:922 op device:{requested: '', assigned: ''} def:{{{node training_2/Adam/dense_9/bias/v/Assign}} = AssignVariableOp[_has_manual_control_dependencies=true, dtype=DT_FLOAT, validate_shape=false](training_2/Adam/dense_9/bias/v, training_2/Adam/dense_9/bias/v/Initializer/zeros)}}' was changed by setting attribute after it was run by a session. This mutation will have no effect, and will trigger an error in the future. Either don't modify nodes after running them or create a new session.\n",
      "2023-04-30 14:46:39.745860: I tensorflow/core/grappler/optimizers/custom_graph_optimizer_registry.cc:114] Plugin optimizer for device_type GPU is enabled.\n",
      "2023-04-30 14:46:39.782488: I tensorflow/core/grappler/optimizers/custom_graph_optimizer_registry.cc:114] Plugin optimizer for device_type GPU is enabled.\n"
     ]
    },
    {
     "name": "stdout",
     "output_type": "stream",
     "text": [
      "10000/10000 [==============================] - 1s 103us/sample - loss: 0.0853 - val_loss: 0.0844\n",
      "Epoch 2/10\n",
      "  800/10000 [=>............................] - ETA: 0s - loss: 0.0838"
     ]
    },
    {
     "name": "stderr",
     "output_type": "stream",
     "text": [
      "2023-04-30 14:46:40.615258: W tensorflow/c/c_api.cc:291] Operation '{name:'loss_1/mul' id:685 op device:{requested: '', assigned: ''} def:{{{node loss_1/mul}} = Mul[T=DT_FLOAT, _has_manual_control_dependencies=true](loss_1/mul/x, loss_1/dense_11_loss/value)}}' was changed by setting attribute after it was run by a session. This mutation will have no effect, and will trigger an error in the future. Either don't modify nodes after running them or create a new session.\n",
      "2023-04-30 14:46:40.625464: I tensorflow/core/grappler/optimizers/custom_graph_optimizer_registry.cc:114] Plugin optimizer for device_type GPU is enabled.\n"
     ]
    },
    {
     "name": "stdout",
     "output_type": "stream",
     "text": [
      "10000/10000 [==============================] - 1s 77us/sample - loss: 0.0849 - val_loss: 0.0852\n",
      "Epoch 3/10\n",
      "10000/10000 [==============================] - 1s 76us/sample - loss: 0.0845 - val_loss: 0.0847\n",
      "Epoch 4/10\n",
      "10000/10000 [==============================] - 1s 76us/sample - loss: 0.0841 - val_loss: 0.0844\n",
      "Epoch 5/10\n",
      "10000/10000 [==============================] - 1s 77us/sample - loss: 0.0843 - val_loss: 0.0849\n",
      "Epoch 6/10\n",
      "10000/10000 [==============================] - 1s 76us/sample - loss: 0.0841 - val_loss: 0.0847\n",
      "Epoch 7/10\n",
      "10000/10000 [==============================] - 1s 77us/sample - loss: 0.0841 - val_loss: 0.0846\n",
      "Epoch 8/10\n",
      "10000/10000 [==============================] - 1s 76us/sample - loss: 0.0840 - val_loss: 0.0854\n",
      "Epoch 9/10\n",
      "10000/10000 [==============================] - 1s 77us/sample - loss: 0.0842 - val_loss: 0.0847\n",
      "Epoch 10/10\n",
      "10000/10000 [==============================] - 1s 77us/sample - loss: 0.0842 - val_loss: 0.0841\n"
     ]
    },
    {
     "data": {
      "text/plain": [
       "<keras.callbacks.History at 0x28f8eb2e0>"
      ]
     },
     "execution_count": 6,
     "metadata": {},
     "output_type": "execute_result"
    }
   ],
   "source": [
    "x = np.random.random((10000, 5))\n",
    "y = np.random.random((10000, 2))\n",
    "\n",
    "x2 = np.random.random((2000, 5))\n",
    "y2 = np.random.random((2000, 2))\n",
    "\n",
    "inp = tf.keras.layers.Input(shape = (5,))\n",
    "l1 = tf.keras.layers.Dense(256, activation = 'sigmoid')(inp)\n",
    "l1 = tf.keras.layers.Dense(256, activation = 'sigmoid')(l1)\n",
    "l1 = tf.keras.layers.Dense(256, activation = 'sigmoid')(l1)\n",
    "l1 = tf.keras.layers.Dense(256, activation = 'sigmoid')(l1)\n",
    "l1 = tf.keras.layers.Dense(256, activation = 'sigmoid')(l1)\n",
    "o = tf.keras.layers.Dense(2, activation = 'sigmoid')(l1)\n",
    "\n",
    "model = tf.keras.models.Model(inputs = [inp], outputs = [o])\n",
    "model.compile(optimizer = \"Adam\", loss = \"mse\")\n",
    "\n",
    "model.fit(x, y, validation_data = (x2, y2), batch_size = 100, epochs = 10)"
   ]
  }
 ],
 "metadata": {
  "kernelspec": {
   "display_name": "log-nlp_38",
   "language": "python",
   "name": "python3"
  },
  "language_info": {
   "codemirror_mode": {
    "name": "ipython",
    "version": 3
   },
   "file_extension": ".py",
   "mimetype": "text/x-python",
   "name": "python",
   "nbconvert_exporter": "python",
   "pygments_lexer": "ipython3",
   "version": "3.9.16"
  },
  "orig_nbformat": 4
 },
 "nbformat": 4,
 "nbformat_minor": 2
}
