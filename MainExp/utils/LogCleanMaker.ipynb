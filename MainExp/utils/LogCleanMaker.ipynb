{
 "cells": [
  {
   "cell_type": "code",
   "execution_count": 3,
   "metadata": {},
   "outputs": [],
   "source": [
    "TARGET_FILE = \"../clean_data_sample/Windows_2k.log_clean.txt\"\n",
    "TARGET_FILE = \"../clean_data_sample/Linux_2k.log_clean.txt\"\n",
    "TARGET_FILE = \"../clean_data_sample/HDFS_2k.log_clean.txt\"\n",
    "TARGET_FILE = \"../clean_data_sample/Hadoop_2k.log_clean.txt\"\n",
    "TARGET_FILE = \"../clean_data_sample/OpenStack_2k.log_clean.txt\""
   ]
  },
  {
   "cell_type": "code",
   "execution_count": 4,
   "metadata": {},
   "outputs": [],
   "source": [
    "from shutil import copyfile\n",
    "\n",
    "file_cnt = 0\n",
    "\n",
    "while True:\n",
    "    src = TARGET_FILE\n",
    "    file_cnt+=1\n",
    "    dst = f\"./concordance_{file_cnt}_clean.txt\"\n",
    "    copyfile(src,dst)\n",
    "    if file_cnt == 20:\n",
    "        break;"
   ]
  },
  {
   "cell_type": "code",
   "execution_count": null,
   "metadata": {},
   "outputs": [],
   "source": []
  }
 ],
 "metadata": {
  "kernelspec": {
   "display_name": "log-nlp_38",
   "language": "python",
   "name": "python3"
  },
  "language_info": {
   "codemirror_mode": {
    "name": "ipython",
    "version": 3
   },
   "file_extension": ".py",
   "mimetype": "text/x-python",
   "name": "python",
   "nbconvert_exporter": "python",
   "pygments_lexer": "ipython3",
   "version": "3.8.15 (default, Nov 24 2022, 08:57:44) \n[Clang 14.0.6 ]"
  },
  "orig_nbformat": 4,
  "vscode": {
   "interpreter": {
    "hash": "66d4fb87ddb4494270580ee563fb6840ad68ac8d4139104e541e8f4c217ec4ea"
   }
  }
 },
 "nbformat": 4,
 "nbformat_minor": 2
}
