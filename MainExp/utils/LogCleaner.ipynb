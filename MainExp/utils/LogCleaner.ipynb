{
 "cells": [
  {
   "cell_type": "code",
   "execution_count": 4,
   "metadata": {},
   "outputs": [],
   "source": [
    "# TARGET_FILE = \"../Loghub/Windows/Windows_2k.log\"\n",
    "# TARGET_FILE = \"../Loghub/Linux/Linux_2k.log\"\n",
    "# TARGET_FILE = \"../Loghub/Hadoop/Hadoop_2k.log\"\n",
    "# TARGET_FILE = \"../Loghub/HDFS/HDFS_2k.log\"\n",
    "# TARGET_FILE = \"../Loghub/Spark/Spark_2k.log\"\n",
    "TARGET_FILE = \"../Loghub/OpenStack/OpenStack_2k.log\"\n",
    "\n",
    "### Anomaly ###\n",
    "# TARGET_FILE = \"../MainExp/Hadoop/data/anomaly/Hadoop_Anomaly_4.2k.log\"\n",
    "# TARGET_FILE = \"../MainExp/hdfs/data/anomaly/HDFS_Anomaly_10k.log\""
   ]
  },
  {
   "cell_type": "code",
   "execution_count": 5,
   "metadata": {},
   "outputs": [],
   "source": [
    "def line_cleaner(line):\n",
    "    # print(line)\n",
    "\n",
    "    concat_char = \"\"\n",
    "\n",
    "    for char in line:\n",
    "        is_num = False\n",
    "        is_big = False\n",
    "        is_small = False\n",
    "\n",
    "        try:\n",
    "            # print (\"now char\",char)\n",
    "            if char.isdigit():\n",
    "                concat_char+=char\n",
    "            elif char.islower():\n",
    "                concat_char+=char\n",
    "            elif char.isupper():\n",
    "                char=char.lower()\n",
    "                concat_char+=char\n",
    "            else:\n",
    "                if concat_char[-1] == \" \":\n",
    "                    pass\n",
    "                else:\n",
    "                    concat_char+=\" \"\n",
    "                pass\n",
    "        except:\n",
    "            pass\n",
    "\n",
    "    return concat_char\n"
   ]
  },
  {
   "cell_type": "code",
   "execution_count": 6,
   "metadata": {},
   "outputs": [
    {
     "ename": "FileNotFoundError",
     "evalue": "[Errno 2] No such file or directory: '../Loghub/Spark/OpenStack_2k.log'",
     "output_type": "error",
     "traceback": [
      "\u001b[0;31m---------------------------------------------------------------------------\u001b[0m",
      "\u001b[0;31mFileNotFoundError\u001b[0m                         Traceback (most recent call last)",
      "Cell \u001b[0;32mIn[6], line 3\u001b[0m\n\u001b[1;32m      1\u001b[0m \u001b[39mimport\u001b[39;00m \u001b[39mos\u001b[39;00m\n\u001b[0;32m----> 3\u001b[0m file \u001b[39m=\u001b[39m \u001b[39mopen\u001b[39;49m(TARGET_FILE,\u001b[39m\"\u001b[39;49m\u001b[39mr\u001b[39;49m\u001b[39m\"\u001b[39;49m)\n\u001b[1;32m      4\u001b[0m lines \u001b[39m=\u001b[39m file\u001b[39m.\u001b[39mreadlines()\n\u001b[1;32m      6\u001b[0m result_file_name \u001b[39m=\u001b[39m os\u001b[39m.\u001b[39mpath\u001b[39m.\u001b[39msplit(TARGET_FILE)[\u001b[39m-\u001b[39m\u001b[39m1\u001b[39m]\n",
      "File \u001b[0;32m~/miniforge3/envs/log-nlp_38/lib/python3.8/site-packages/IPython/core/interactiveshell.py:282\u001b[0m, in \u001b[0;36m_modified_open\u001b[0;34m(file, *args, **kwargs)\u001b[0m\n\u001b[1;32m    275\u001b[0m \u001b[39mif\u001b[39;00m file \u001b[39min\u001b[39;00m {\u001b[39m0\u001b[39m, \u001b[39m1\u001b[39m, \u001b[39m2\u001b[39m}:\n\u001b[1;32m    276\u001b[0m     \u001b[39mraise\u001b[39;00m \u001b[39mValueError\u001b[39;00m(\n\u001b[1;32m    277\u001b[0m         \u001b[39mf\u001b[39m\u001b[39m\"\u001b[39m\u001b[39mIPython won\u001b[39m\u001b[39m'\u001b[39m\u001b[39mt let you open fd=\u001b[39m\u001b[39m{\u001b[39;00mfile\u001b[39m}\u001b[39;00m\u001b[39m by default \u001b[39m\u001b[39m\"\u001b[39m\n\u001b[1;32m    278\u001b[0m         \u001b[39m\"\u001b[39m\u001b[39mas it is likely to crash IPython. If you know what you are doing, \u001b[39m\u001b[39m\"\u001b[39m\n\u001b[1;32m    279\u001b[0m         \u001b[39m\"\u001b[39m\u001b[39myou can use builtins\u001b[39m\u001b[39m'\u001b[39m\u001b[39m open.\u001b[39m\u001b[39m\"\u001b[39m\n\u001b[1;32m    280\u001b[0m     )\n\u001b[0;32m--> 282\u001b[0m \u001b[39mreturn\u001b[39;00m io_open(file, \u001b[39m*\u001b[39;49margs, \u001b[39m*\u001b[39;49m\u001b[39m*\u001b[39;49mkwargs)\n",
      "\u001b[0;31mFileNotFoundError\u001b[0m: [Errno 2] No such file or directory: '../Loghub/Spark/OpenStack_2k.log'"
     ]
    }
   ],
   "source": [
    "import os\n",
    "\n",
    "file = open(TARGET_FILE,\"r\")\n",
    "lines = file.readlines()\n",
    "\n",
    "result_file_name = os.path.split(TARGET_FILE)[-1]\n",
    "result_file = open(result_file_name+\"_clean.txt\",\"w\")\n",
    "\n",
    "target_line=\"\"\n",
    "for line in lines:\n",
    "    target_line = line.strip()\n",
    "    # print (target_line)\n",
    "    result_file.write(line_cleaner(line.strip())+\"\\n\")\n",
    "\n",
    "result_file.close()"
   ]
  }
 ],
 "metadata": {
  "kernelspec": {
   "display_name": "log-nlp_38",
   "language": "python",
   "name": "python3"
  },
  "language_info": {
   "codemirror_mode": {
    "name": "ipython",
    "version": 3
   },
   "file_extension": ".py",
   "mimetype": "text/x-python",
   "name": "python",
   "nbconvert_exporter": "python",
   "pygments_lexer": "ipython3",
   "version": "3.8.15"
  },
  "orig_nbformat": 4,
  "vscode": {
   "interpreter": {
    "hash": "66d4fb87ddb4494270580ee563fb6840ad68ac8d4139104e541e8f4c217ec4ea"
   }
  }
 },
 "nbformat": 4,
 "nbformat_minor": 2
}
