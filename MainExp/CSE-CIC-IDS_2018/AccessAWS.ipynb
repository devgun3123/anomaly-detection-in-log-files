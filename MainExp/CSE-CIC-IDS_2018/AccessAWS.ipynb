{
 "cells": [
  {
   "cell_type": "code",
   "execution_count": 6,
   "metadata": {},
   "outputs": [
    {
     "name": "stdout",
     "output_type": "stream",
     "text": [
      "aws-cli/2.9.13 Python/3.11.1 Darwin/22.2.0 source/arm64 prompt/off\n"
     ]
    }
   ],
   "source": [
    "!aws --version"
   ]
  },
  {
   "cell_type": "code",
   "execution_count": 1,
   "metadata": {},
   "outputs": [
    {
     "name": "stdout",
     "output_type": "stream",
     "text": [
      "                           PRE Original Network Traffic and Log data/\n",
      "                           PRE Processed Traffic Data for ML Algorithms/\n"
     ]
    }
   ],
   "source": [
    "!aws s3 ls --no-sign-request s3://cse-cic-ids2018/"
   ]
  },
  {
   "cell_type": "code",
   "execution_count": 4,
   "metadata": {},
   "outputs": [
    {
     "name": "stdout",
     "output_type": "stream",
     "text": [
      "                           PRE Friday-02-03-2018/\n",
      "                           PRE Friday-16-02-2018/\n",
      "                           PRE Friday-23-02-2018/\n",
      "                           PRE Thursday-01-03-2018/\n",
      "                           PRE Thursday-15-02-2018/\n",
      "                           PRE Thursday-22-02-2018/\n",
      "                           PRE Tuesday-20-02-2018/\n",
      "                           PRE Wednesday-14-02-2018/\n",
      "                           PRE Wednesday-21-02-2018/\n",
      "                           PRE Wednesday-28-02-2018/\n",
      "2018-10-10 20:52:09          0 \n"
     ]
    }
   ],
   "source": [
    "!aws s3 ls --no-sign-request \"s3://cse-cic-ids2018/Original Network Traffic and Log data/\""
   ]
  },
  {
   "cell_type": "code",
   "execution_count": 12,
   "metadata": {},
   "outputs": [
    {
     "name": "stdout",
     "output_type": "stream",
     "text": [
      "2018-10-10 20:52:23          0 Original Network Traffic and Log data/Friday-02-03-2018/\n",
      "2018-10-10 21:00:39  236732757 Original Network Traffic and Log data/Friday-02-03-2018/logs.zip\n",
      "2018-10-10 21:00:51 44789835888 Original Network Traffic and Log data/Friday-02-03-2018/pcap.zip\n"
     ]
    }
   ],
   "source": [
    "!aws s3 ls --no-sign-request \"s3://cse-cic-ids2018/Original Network Traffic and Log data/Friday-02-03-2018/\" --recursive"
   ]
  },
  {
   "cell_type": "code",
   "execution_count": 18,
   "metadata": {},
   "outputs": [
    {
     "name": "stdout",
     "output_type": "stream",
     "text": [
      "Completed 4.4 GiB/41.9 GiB (49.4 MiB/s) with 2 file(s) remaining   \r"
     ]
    }
   ],
   "source": [
    "!aws s3 cp --no-sign-request \"s3://cse-cic-ids2018/Original Network Traffic and Log data/Friday-02-03-2018/\" ./data/ --recursive"
   ]
  },
  {
   "cell_type": "code",
   "execution_count": 5,
   "metadata": {},
   "outputs": [
    {
     "name": "stdout",
     "output_type": "stream",
     "text": [
      "2018-10-12 01:02:25          0 \n",
      "2018-10-12 01:02:49  352368373 Friday-02-03-2018_TrafficForML_CICFlowMeter.csv\n",
      "2018-10-12 01:03:10  333723605 Friday-16-02-2018_TrafficForML_CICFlowMeter.csv\n",
      "2018-10-12 01:03:33  382840456 Friday-23-02-2018_TrafficForML_CICFlowMeter.csv\n",
      "2018-10-12 01:03:59 4054925350 Thuesday-20-02-2018_TrafficForML_CICFlowMeter.csv\n",
      "2018-10-12 01:08:38  107842858 Thursday-01-03-2018_TrafficForML_CICFlowMeter.csv\n",
      "2018-10-12 01:08:48  375945899 Thursday-15-02-2018_TrafficForML_CICFlowMeter.csv\n",
      "2018-10-12 01:09:20  382636202 Thursday-22-02-2018_TrafficForML_CICFlowMeter.csv\n",
      "2018-10-12 01:09:44  358223333 Wednesday-14-02-2018_TrafficForML_CICFlowMeter.csv\n",
      "2018-10-12 01:10:12  328893673 Wednesday-21-02-2018_TrafficForML_CICFlowMeter.csv\n",
      "2018-10-12 01:10:33  209249758 Wednesday-28-02-2018_TrafficForML_CICFlowMeter.csv\n"
     ]
    }
   ],
   "source": [
    "!aws s3 ls --no-sign-request \"s3://cse-cic-ids2018/Processed Traffic Data for ML Algorithms/\""
   ]
  },
  {
   "cell_type": "code",
   "execution_count": 17,
   "metadata": {},
   "outputs": [
    {
     "name": "stdout",
     "output_type": "stream",
     "text": [
      "download: s3://cse-cic-ids2018/Processed Traffic Data for ML Algorithms/Thursday-01-03-2018_TrafficForML_CICFlowMeter.csv to data/Thursday-01-03-2018_TrafficForML_CICFlowMeter.csv\n"
     ]
    }
   ],
   "source": [
    "!aws s3 cp --no-sign-request \"s3://cse-cic-ids2018/Processed Traffic Data for ML Algorithms/Thursday-01-03-2018_TrafficForML_CICFlowMeter.csv\" ./data/"
   ]
  },
  {
   "cell_type": "code",
   "execution_count": null,
   "metadata": {},
   "outputs": [],
   "source": []
  }
 ],
 "metadata": {
  "kernelspec": {
   "display_name": "log-nlp_38",
   "language": "python",
   "name": "python3"
  },
  "language_info": {
   "codemirror_mode": {
    "name": "ipython",
    "version": 3
   },
   "file_extension": ".py",
   "mimetype": "text/x-python",
   "name": "python",
   "nbconvert_exporter": "python",
   "pygments_lexer": "ipython3",
   "version": "3.8.15"
  },
  "orig_nbformat": 4,
  "vscode": {
   "interpreter": {
    "hash": "66d4fb87ddb4494270580ee563fb6840ad68ac8d4139104e541e8f4c217ec4ea"
   }
  }
 },
 "nbformat": 4,
 "nbformat_minor": 2
}
