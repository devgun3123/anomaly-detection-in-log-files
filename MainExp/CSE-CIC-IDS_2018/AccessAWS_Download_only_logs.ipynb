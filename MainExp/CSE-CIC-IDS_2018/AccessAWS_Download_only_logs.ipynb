{
 "cells": [
  {
   "cell_type": "code",
   "execution_count": 1,
   "metadata": {},
   "outputs": [
    {
     "name": "stdout",
     "output_type": "stream",
     "text": [
      "aws-cli/2.9.13 Python/3.11.1 Darwin/22.2.0 source/arm64 prompt/off\n"
     ]
    }
   ],
   "source": [
    "!aws --version"
   ]
  },
  {
   "cell_type": "code",
   "execution_count": 2,
   "metadata": {},
   "outputs": [
    {
     "name": "stdout",
     "output_type": "stream",
     "text": [
      "                           PRE Original Network Traffic and Log data/\n",
      "                           PRE Processed Traffic Data for ML Algorithms/\n"
     ]
    }
   ],
   "source": [
    "!aws s3 ls --no-sign-request s3://cse-cic-ids2018/"
   ]
  },
  {
   "cell_type": "code",
   "execution_count": 1,
   "metadata": {},
   "outputs": [
    {
     "name": "stdout",
     "output_type": "stream",
     "text": [
      "                           PRE Friday-02-03-2018/\n",
      "                           PRE Friday-16-02-2018/\n",
      "                           PRE Friday-23-02-2018/\n",
      "                           PRE Thursday-01-03-2018/\n",
      "                           PRE Thursday-15-02-2018/\n",
      "                           PRE Thursday-22-02-2018/\n",
      "                           PRE Tuesday-20-02-2018/\n",
      "                           PRE Wednesday-14-02-2018/\n",
      "                           PRE Wednesday-21-02-2018/\n",
      "                           PRE Wednesday-28-02-2018/\n",
      "2018-10-10 20:52:09          0 \n"
     ]
    }
   ],
   "source": [
    "!aws s3 ls --no-sign-request \"s3://cse-cic-ids2018/Original Network Traffic and Log data/\""
   ]
  },
  {
   "cell_type": "code",
   "execution_count": 38,
   "metadata": {},
   "outputs": [
    {
     "name": "stdout",
     "output_type": "stream",
     "text": [
      "180 199\n",
      " Friday-02-03-2018/\n",
      "aws s3 ls --no-sign-request \"s3://cse-cic-ids2018/Original Network Traffic and Log data/Friday-02-03-2018/\"\n",
      "2018-10-10 20:52:23          0 \n",
      "2018-10-10 21:00:39  236732757 logs.zip\n",
      "2018-10-10 21:00:51 44789835888 pcap.zip\n",
      "231 250\n",
      " Friday-16-02-2018/\n",
      "aws s3 ls --no-sign-request \"s3://cse-cic-ids2018/Original Network Traffic and Log data/Friday-16-02-2018/\"\n",
      "2018-10-10 20:52:34          0 \n",
      "2018-10-10 21:45:49  155242304 logs.zip\n",
      "2018-10-10 21:46:01 38535667707 pcap.zip\n",
      "282 301\n",
      " Friday-23-02-2018/\n",
      "aws s3 ls --no-sign-request \"s3://cse-cic-ids2018/Original Network Traffic and Log data/Friday-23-02-2018/\"\n",
      "2018-10-10 20:52:41          0 \n",
      "2018-10-10 21:46:10  209495495 logs.zip\n",
      "2018-10-10 21:46:31 59093922810 pcap.zip\n",
      "333 354\n",
      " Thursday-01-03-2018/\n",
      "aws s3 ls --no-sign-request \"s3://cse-cic-ids2018/Original Network Traffic and Log data/Thursday-01-03-2018/\"\n",
      "2018-10-10 20:52:47          0 \n",
      "2018-10-10 22:41:13  227624294 logs.zip\n",
      "2018-10-10 22:41:45 52358069106 pcap.zip\n",
      "386 407\n",
      " Thursday-15-02-2018/\n",
      "aws s3 ls --no-sign-request \"s3://cse-cic-ids2018/Original Network Traffic and Log data/Thursday-15-02-2018/\"\n",
      "2018-10-10 20:52:54          0 \n",
      "2018-10-10 22:41:28  149507154 logs.zip\n",
      "2018-10-10 22:41:55 41283382768 pcap.zip\n",
      "439 460\n",
      " Thursday-22-02-2018/\n",
      "aws s3 ls --no-sign-request \"s3://cse-cic-ids2018/Original Network Traffic and Log data/Thursday-22-02-2018/\"\n",
      "2018-10-10 20:53:01          0 \n",
      "2018-10-10 22:41:42  204766212 logs.zip\n",
      "2018-10-10 22:42:27 50240938251 pcap.zip\n",
      "492 512\n",
      " Tuesday-20-02-2018/\n",
      "aws s3 ls --no-sign-request \"s3://cse-cic-ids2018/Original Network Traffic and Log data/Tuesday-20-02-2018/\"\n",
      "2018-10-10 20:53:07          0 \n",
      "2018-10-10 23:39:45  187634555 logs.zip\n",
      "2018-10-10 23:40:40 44391980380 pcap.rar\n",
      "544 566\n",
      " Wednesday-14-02-2018/\n",
      "aws s3 ls --no-sign-request \"s3://cse-cic-ids2018/Original Network Traffic and Log data/Wednesday-14-02-2018/\"\n",
      "2018-10-10 20:53:14          0 \n",
      "2018-10-11 01:44:20  140178796 logs.zip\n",
      "2018-10-11 21:22:03 39913353098 pcap.zip\n",
      "598 620\n",
      " Wednesday-21-02-2018/\n",
      "aws s3 ls --no-sign-request \"s3://cse-cic-ids2018/Original Network Traffic and Log data/Wednesday-21-02-2018/\"\n",
      "2018-10-10 20:53:21          0 \n",
      "2018-10-11 01:44:34  194615081 logs.zip\n",
      "2018-10-11 22:35:15 53462820707 pcap.zip\n",
      "652 674\n",
      " Wednesday-28-02-2018/\n",
      "aws s3 ls --no-sign-request \"s3://cse-cic-ids2018/Original Network Traffic and Log data/Wednesday-28-02-2018/\"\n",
      "2018-10-10 20:53:28          0 \n",
      "2018-10-11 01:44:47  226631826 logs.zip\n",
      "2018-10-11 23:21:03 53251694487 pcap.zip\n"
     ]
    }
   ],
   "source": [
    "import re\n",
    "import subprocess\n",
    "\n",
    "# check list\n",
    "aws_resp_text = subprocess.run(\n",
    "    [\n",
    "        \"aws\",\n",
    "        \"s3\",\n",
    "        \"ls\",\n",
    "        \"--no-sign-request\",\n",
    "        \"s3://cse-cic-ids2018/Original Network Traffic and Log data/\",\n",
    "    ],\n",
    "    stdout=subprocess.PIPE,\n",
    ")\n",
    "pattern = r\"\\s(Monday|Tuesday|Wednesday|Thursday|Friday|Saturday|Sunday)\\-[0-9]{2}\\-[0-9]{2}\\-[0-9]{4}\\/\"\n",
    "iter = re.finditer(pattern, str(aws_resp_text))\n",
    "for match in iter:\n",
    "    print(match.start(), match.end())\n",
    "    extraction = str(aws_resp_text)[match.start():match.end()]\n",
    "    print(extraction)\n",
    "    cmd = \"aws s3 ls --no-sign-request \\\"s3://cse-cic-ids2018/Original Network Traffic and Log data/\" + extraction.strip() + \"\\\"\"\n",
    "    print(cmd)\n",
    "    !{cmd}\n"
   ]
  },
  {
   "cell_type": "code",
   "execution_count": 48,
   "metadata": {},
   "outputs": [
    {
     "name": "stdout",
     "output_type": "stream",
     "text": [
      "180 199\n",
      " Friday-02-03-2018/\n",
      "download path: ./data/Friday-02-03-2018/\n",
      "download: s3://cse-cic-ids2018/Original Network Traffic and Log data/Friday-02-03-2018/logs.zip to data/Friday-02-03-2018/logs.zip\n",
      "231 250\n",
      " Friday-16-02-2018/\n",
      "download path: ./data/Friday-16-02-2018/\n",
      "download: s3://cse-cic-ids2018/Original Network Traffic and Log data/Friday-16-02-2018/logs.zip to data/Friday-16-02-2018/logs.zip\n",
      "282 301\n",
      " Friday-23-02-2018/\n",
      "download path: ./data/Friday-23-02-2018/\n",
      "download: s3://cse-cic-ids2018/Original Network Traffic and Log data/Friday-23-02-2018/logs.zip to data/Friday-23-02-2018/logs.zip\n",
      "333 354\n",
      " Thursday-01-03-2018/\n",
      "download path: ./data/Thursday-01-03-2018/\n",
      "download: s3://cse-cic-ids2018/Original Network Traffic and Log data/Thursday-01-03-2018/logs.zip to data/Thursday-01-03-2018/logs.zip\n",
      "386 407\n",
      " Thursday-15-02-2018/\n",
      "download path: ./data/Thursday-15-02-2018/\n",
      "download: s3://cse-cic-ids2018/Original Network Traffic and Log data/Thursday-15-02-2018/logs.zip to data/Thursday-15-02-2018/logs.zip\n",
      "439 460\n",
      " Thursday-22-02-2018/\n",
      "download path: ./data/Thursday-22-02-2018/\n",
      "download: s3://cse-cic-ids2018/Original Network Traffic and Log data/Thursday-22-02-2018/logs.zip to data/Thursday-22-02-2018/logs.zip\n",
      "492 512\n",
      " Tuesday-20-02-2018/\n",
      "download path: ./data/Tuesday-20-02-2018/\n",
      "download: s3://cse-cic-ids2018/Original Network Traffic and Log data/Tuesday-20-02-2018/logs.zip to data/Tuesday-20-02-2018/logs.zip\n",
      "544 566\n",
      " Wednesday-14-02-2018/\n",
      "download path: ./data/Wednesday-14-02-2018/\n",
      "download: s3://cse-cic-ids2018/Original Network Traffic and Log data/Wednesday-14-02-2018/logs.zip to data/Wednesday-14-02-2018/logs.zip\n",
      "598 620\n",
      " Wednesday-21-02-2018/\n",
      "download path: ./data/Wednesday-21-02-2018/\n",
      "download: s3://cse-cic-ids2018/Original Network Traffic and Log data/Wednesday-21-02-2018/logs.zip to data/Wednesday-21-02-2018/logs.zip\n",
      "652 674\n",
      " Wednesday-28-02-2018/\n",
      "download path: ./data/Wednesday-28-02-2018/\n",
      "download: s3://cse-cic-ids2018/Original Network Traffic and Log data/Wednesday-28-02-2018/logs.zip to data/Wednesday-28-02-2018/logs.zip\n"
     ]
    }
   ],
   "source": [
    "# select logs only\n",
    "aws_resp_text = subprocess.run(\n",
    "    [\n",
    "        \"aws\",\n",
    "        \"s3\",\n",
    "        \"ls\",\n",
    "        \"--no-sign-request\",\n",
    "        \"s3://cse-cic-ids2018/Original Network Traffic and Log data/\",\n",
    "    ],\n",
    "    stdout=subprocess.PIPE,\n",
    ")\n",
    "pattern = r\"\\s(Monday|Tuesday|Wednesday|Thursday|Friday|Saturday|Sunday)\\-[0-9]{2}\\-[0-9]{2}\\-[0-9]{4}\\/\"\n",
    "iter = re.finditer(pattern, str(aws_resp_text))\n",
    "for match in iter:\n",
    "    print(match.start(), match.end())\n",
    "    extraction = str(aws_resp_text)[match.start():match.end()]\n",
    "    print(extraction)\n",
    "    cmd = \"aws s3 cp --no-sign-request \\\"s3://cse-cic-ids2018/Original Network Traffic and Log data/\" + extraction.strip() + \"logs.zip\\\"\"\n",
    "    download_path = \"./data/\"+extraction[:-1].strip()+\"/\"\n",
    "    print(\"download path:\",download_path)\n",
    "    full_cmd = cmd+\" \\\"\"+download_path+\"\\\"\"\n",
    "    !{full_cmd}"
   ]
  },
  {
   "cell_type": "code",
   "execution_count": null,
   "metadata": {},
   "outputs": [],
   "source": []
  }
 ],
 "metadata": {
  "kernelspec": {
   "display_name": "log-nlp_38",
   "language": "python",
   "name": "python3"
  },
  "language_info": {
   "codemirror_mode": {
    "name": "ipython",
    "version": 3
   },
   "file_extension": ".py",
   "mimetype": "text/x-python",
   "name": "python",
   "nbconvert_exporter": "python",
   "pygments_lexer": "ipython3",
   "version": "3.8.15 (default, Nov 24 2022, 08:57:44) \n[Clang 14.0.6 ]"
  },
  "orig_nbformat": 4,
  "vscode": {
   "interpreter": {
    "hash": "66d4fb87ddb4494270580ee563fb6840ad68ac8d4139104e541e8f4c217ec4ea"
   }
  }
 },
 "nbformat": 4,
 "nbformat_minor": 2
}
